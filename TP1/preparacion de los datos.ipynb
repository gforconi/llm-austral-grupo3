{
 "cells": [
  {
   "cell_type": "markdown",
   "metadata": {},
   "source": [
    "# Me quedo con las que mas tienen"
   ]
  },
  {
   "cell_type": "code",
   "execution_count": 17,
   "metadata": {},
   "outputs": [],
   "source": [
    "import numpy as np\n",
    "from matplotlib import pyplot\n",
    "import math"
   ]
  },
  {
   "cell_type": "code",
   "execution_count": 18,
   "metadata": {},
   "outputs": [],
   "source": [
    "AUSTRAL_MCD_FACE = np.load(\"../data/australFace/AUSTRAL_MCD_FACE_grayscale.npy\")\n",
    "AUSTRAL_MCD_FACE_target = np.load(\"../data/australFace/AUSTRAL_MCD_FACE_TARGET.npy\")"
   ]
  },
  {
   "cell_type": "markdown",
   "metadata": {},
   "source": [
    "resumen de la cantidad de imagenes que hay por cada alumno"
   ]
  },
  {
   "cell_type": "code",
   "execution_count": 19,
   "metadata": {},
   "outputs": [
    {
     "name": "stdout",
     "output_type": "stream",
     "text": [
      "[['Andres' '20']\n",
      " ['Fernanda' '14']\n",
      " ['Hernan' '14']\n",
      " ['Jiang' '14']\n",
      " ['Mai' '14']\n",
      " ['Carla' '12']\n",
      " ['Marcelo T' '12']\n",
      " ['Josefina' '11']\n",
      " ['Sebastian' '11']\n",
      " ['Geronimo' '9']\n",
      " ['Oscar' '9']\n",
      " ['Rodrigo G' '8']\n",
      " ['Elemir' '8']\n",
      " ['Nestor' '8']\n",
      " ['Maribel' '8']\n",
      " ['Ramon' '7']\n",
      " ['Silvia' '7']\n",
      " ['Marcelo G' '7']\n",
      " ['Julieta' '7']\n",
      " ['Marisa' '6']\n",
      " ['Edu' '5']\n",
      " ['Joaquin' '4']\n",
      " ['Claudia' '4']\n",
      " ['Lujan' '4']\n",
      " ['Marcelo G ' '1']]\n"
     ]
    }
   ],
   "source": [
    "unique, counts = np.unique(AUSTRAL_MCD_FACE_target, return_counts=True)\n",
    "sorted_indices = np.argsort(-counts)\n",
    "sorted_unique = unique[sorted_indices]\n",
    "sorted_counts = counts[sorted_indices]\n",
    "print(np.asarray((sorted_unique, sorted_counts)).T)"
   ]
  },
  {
   "cell_type": "code",
   "execution_count": 20,
   "metadata": {},
   "outputs": [],
   "source": [
    "# Quiero quedarme con las 10 clases con más ejemplos, quiero filtrar las mismas posiciones de \n",
    "# indices de AUSTRAL_MCD_FACE y AUSTRAL_MCD_FACE_target\n",
    "top_classes = sorted_unique[:10]\n",
    "top_classes_indices = np.isin(AUSTRAL_MCD_FACE_target, top_classes)\n",
    "AUSTRAL_MCD_FACE_top10 = AUSTRAL_MCD_FACE[top_classes_indices]\n",
    "AUSTRAL_MCD_FACE_target_top10 = AUSTRAL_MCD_FACE_target[top_classes_indices]\n",
    "\n",
    "# guardar AUSTRAL_MCD_FACE y AUSTRAL_MCD_FACE_target en un archivo .npy\n",
    "np.save(\"../data/australFace/AUSTRAL_MCD_FACE_top10.npy\", AUSTRAL_MCD_FACE_top10)\n",
    "np.save(\"../data/australFace/AUSTRAL_MCD_FACE_TARGET_top10.npy\", AUSTRAL_MCD_FACE_target_top10)"
   ]
  },
  {
   "cell_type": "code",
   "execution_count": 11,
   "metadata": {},
   "outputs": [
    {
     "data": {
      "text/plain": [
       "((131, 150, 150), (131,))"
      ]
     },
     "execution_count": 11,
     "metadata": {},
     "output_type": "execute_result"
    }
   ],
   "source": [
    "AUSTRAL_MCD_FACE_top10.shape, AUSTRAL_MCD_FACE_target_top10.shape"
   ]
  },
  {
   "cell_type": "code",
   "execution_count": 16,
   "metadata": {},
   "outputs": [
    {
     "data": {
      "text/plain": [
       "(array(['Andres', 'Carla', 'Fernanda', 'Geronimo', 'Hernan', 'Jiang',\n",
       "        'Josefina', 'Mai', 'Marcelo T', 'Sebastian'], dtype='<U10'),\n",
       " array([20, 12, 14,  9, 14, 14, 11, 14, 12, 11]))"
      ]
     },
     "execution_count": 16,
     "metadata": {},
     "output_type": "execute_result"
    }
   ],
   "source": [
    "#quiero ver los valores distintos de AUSTRAL_MCD_FACE_target_top10\n",
    "np.unique(AUSTRAL_MCD_FACE_target_top10, return_counts=True)"
   ]
  },
  {
   "cell_type": "markdown",
   "metadata": {},
   "source": [
    "# Data Augmentation"
   ]
  },
  {
   "cell_type": "code",
   "execution_count": null,
   "metadata": {},
   "outputs": [],
   "source": []
  }
 ],
 "metadata": {
  "kernelspec": {
   "display_name": ".venv",
   "language": "python",
   "name": "python3"
  },
  "language_info": {
   "codemirror_mode": {
    "name": "ipython",
    "version": 3
   },
   "file_extension": ".py",
   "mimetype": "text/x-python",
   "name": "python",
   "nbconvert_exporter": "python",
   "pygments_lexer": "ipython3",
   "version": "3.11.11"
  }
 },
 "nbformat": 4,
 "nbformat_minor": 2
}
